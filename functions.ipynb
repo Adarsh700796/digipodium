{
 "cells": [
  {
   "cell_type": "markdown",
   "id": "d4b79c8f",
   "metadata": {},
   "source": [
    "reusability of a piece of code is known as function"
   ]
  },
  {
   "cell_type": "markdown",
   "id": "ddff1041",
   "metadata": {},
   "source": [
    "- USER DEFINED functions\n",
    "  - Parameterized function\n",
    "  - Non Parameterized function\n",
    "  - Return function \n",
    "  - Non Return function \n",
    "  - Default Parameterized function\n",
    "  - Lamda function\n",
    "- BUILT IN functions "
   ]
  },
  {
   "cell_type": "code",
   "execution_count": 86,
   "id": "eab1b52b",
   "metadata": {},
   "outputs": [],
   "source": [
    "# example of non parameterized function as no variable is used in it\n",
    "def greet():    # initalizing a function\n",
    "    print(\"Hello\")\n",
    "    print(\"how are you?\")\n",
    "    print(\"I am good thankyou\")"
   ]
  },
  {
   "cell_type": "code",
   "execution_count": 87,
   "id": "e7c7acc9",
   "metadata": {},
   "outputs": [
    {
     "name": "stdout",
     "output_type": "stream",
     "text": [
      "Hello\n",
      "how are you?\n",
      "I am good thankyou\n"
     ]
    }
   ],
   "source": [
    "greet()  # function calling"
   ]
  },
  {
   "cell_type": "code",
   "execution_count": 88,
   "id": "b4aa1d1f",
   "metadata": {},
   "outputs": [
    {
     "name": "stdout",
     "output_type": "stream",
     "text": [
      "15\n"
     ]
    }
   ],
   "source": [
    "def sum(a,b): #parameters\n",
    "     print(a+b)\n",
    "sum(5,10) # arguments"
   ]
  },
  {
   "cell_type": "code",
   "execution_count": 89,
   "id": "c942a617",
   "metadata": {},
   "outputs": [],
   "source": [
    "a = 10\n",
    "b = 20"
   ]
  },
  {
   "cell_type": "code",
   "execution_count": 90,
   "id": "165c8b95",
   "metadata": {},
   "outputs": [],
   "source": [
    "def vote():\n",
    "     a = int(input(\"Enter your age: \"))  # input from user\n",
    "     if a >= 18:\n",
    "        print(\"you are eligible to vote\")\n",
    "     else:\n",
    "        print(\"you are not eligible to vote\")"
   ]
  },
  {
   "cell_type": "code",
   "execution_count": 91,
   "id": "20191c59",
   "metadata": {},
   "outputs": [
    {
     "name": "stdout",
     "output_type": "stream",
     "text": [
      "you are not eligible to vote\n"
     ]
    }
   ],
   "source": [
    "vote() # function calling"
   ]
  },
  {
   "cell_type": "code",
   "execution_count": 92,
   "id": "60ac195f",
   "metadata": {},
   "outputs": [
    {
     "name": "stdout",
     "output_type": "stream",
     "text": [
      "5.0\n"
     ]
    }
   ],
   "source": [
    "def avg(a,b,c,d):\n",
    "      print((a+b+c+d)/4)\n",
    "avg(2,4,6,8)\n",
    "    \n"
   ]
  },
  {
   "cell_type": "code",
   "execution_count": 93,
   "id": "628202f5",
   "metadata": {},
   "outputs": [
    {
     "name": "stdout",
     "output_type": "stream",
     "text": [
      "i love India\n"
     ]
    }
   ],
   "source": [
    "def myCountry(country):\n",
    "    return f'i love {country}'\n",
    "print(myCountry(\"India\"))"
   ]
  },
  {
   "cell_type": "code",
   "execution_count": 94,
   "id": "51b745b3",
   "metadata": {},
   "outputs": [
    {
     "name": "stdout",
     "output_type": "stream",
     "text": [
      "i love USA\n",
      "i love RUSSIA\n",
      "i love INDIA\n"
     ]
    }
   ],
   "source": [
    "def myCountry(country ='INDIA'):\n",
    "    return f'i love {country}'\n",
    "print(myCountry('USA'))\n",
    "print(myCountry('RUSSIA'))\n",
    "print(myCountry())"
   ]
  },
  {
   "cell_type": "code",
   "execution_count": 95,
   "id": "8c5aece1",
   "metadata": {},
   "outputs": [
    {
     "data": {
      "text/plain": [
       "256"
      ]
     },
     "execution_count": 95,
     "metadata": {},
     "output_type": "execute_result"
    }
   ],
   "source": [
    "def square(a):\n",
    "    return a**a\n",
    "square(4)"
   ]
  },
  {
   "cell_type": "code",
   "execution_count": 96,
   "id": "534b604b",
   "metadata": {},
   "outputs": [
    {
     "name": "stdout",
     "output_type": "stream",
     "text": [
      "27\n"
     ]
    }
   ],
   "source": [
    "square= lambda a: a**a  \n",
    "print(square(3))"
   ]
  },
  {
   "cell_type": "code",
   "execution_count": 97,
   "id": "e01ac9cb",
   "metadata": {},
   "outputs": [],
   "source": [
    "def check():\n",
    "    a= int(input(\"Enter a number: \"))\n",
    "    if a%2==0:\n",
    "     print(\"even\")\n",
    "    else:\n",
    "     print(\"odd\")\n",
    "\n",
    "      "
   ]
  }
 ],
 "metadata": {
  "kernelspec": {
   "display_name": "base",
   "language": "python",
   "name": "python3"
  },
  "language_info": {
   "codemirror_mode": {
    "name": "ipython",
    "version": 3
   },
   "file_extension": ".py",
   "mimetype": "text/x-python",
   "name": "python",
   "nbconvert_exporter": "python",
   "pygments_lexer": "ipython3",
   "version": "3.13.2"
  }
 },
 "nbformat": 4,
 "nbformat_minor": 5
}
