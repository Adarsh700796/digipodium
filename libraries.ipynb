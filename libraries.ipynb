{
 "cells": [
  {
   "cell_type": "code",
   "execution_count": 1,
   "id": "f58bb0fb",
   "metadata": {},
   "outputs": [],
   "source": [
    "import math"
   ]
  },
  {
   "cell_type": "code",
   "execution_count": 2,
   "id": "034fa9a2",
   "metadata": {},
   "outputs": [
    {
     "name": "stdout",
     "output_type": "stream",
     "text": [
      "120\n"
     ]
    }
   ],
   "source": [
    "print(math.factorial(5))"
   ]
  },
  {
   "cell_type": "code",
   "execution_count": 4,
   "id": "6b8422f7",
   "metadata": {},
   "outputs": [
    {
     "name": "stdout",
     "output_type": "stream",
     "text": [
      "1\n",
      "12\n",
      "0.8414709848078965\n",
      "0.5403023058681398\n"
     ]
    }
   ],
   "source": [
    "print(math.gcd(2,3,4))\n",
    "print(math.lcm(2,3,4))\n",
    "print(math.sin(1))\n",
    "print(math.cos(1))"
   ]
  },
  {
   "cell_type": "code",
   "execution_count": 5,
   "id": "0abf07b7",
   "metadata": {},
   "outputs": [],
   "source": [
    "from random import randint,random,choice,shuffle"
   ]
  },
  {
   "cell_type": "code",
   "execution_count": 6,
   "id": "9dbfe7bf",
   "metadata": {},
   "outputs": [],
   "source": [
    "import random"
   ]
  },
  {
   "cell_type": "code",
   "execution_count": 24,
   "id": "1912ebab",
   "metadata": {},
   "outputs": [
    {
     "name": "stdout",
     "output_type": "stream",
     "text": [
      "0.15788434480702185\n",
      "7\n",
      "6\n",
      "shuffle list ['amit', 'shiva', 'ansh']\n"
     ]
    }
   ],
   "source": [
    "print(random.random())              # gives number between 0 and 1 \n",
    "print(random.randint(1,10))         # it randomly gives a number between a specific range\n",
    "print(random.choice([1,3,5,6,7]))   # it chooses number from the given list\n",
    "name = ['amit','ansh','shiva']      # it shuffles the list \n",
    "shuffle(name)\n",
    "print('shuffle list',name) \n",
    "      "
   ]
  },
  {
   "cell_type": "code",
   "execution_count": 25,
   "id": "5aee1ff2",
   "metadata": {},
   "outputs": [],
   "source": [
    "from datetime import datetime as dt"
   ]
  },
  {
   "cell_type": "code",
   "execution_count": 26,
   "id": "90aff788",
   "metadata": {},
   "outputs": [
    {
     "name": "stdout",
     "output_type": "stream",
     "text": [
      "current date and time:  2025-07-05\n",
      "current time:  18:10:15.264029\n"
     ]
    }
   ],
   "source": [
    "print('current date and time: ',dt.now().date())\n",
    "print('current time: ',dt.now().time())"
   ]
  },
  {
   "cell_type": "code",
   "execution_count": 31,
   "id": "ba89e4eb",
   "metadata": {},
   "outputs": [
    {
     "name": "stdout",
     "output_type": "stream",
     "text": [
      "current year:  2025\n",
      "current month:  7\n",
      "current date:  5\n",
      "current hour:  18\n",
      "current minute:  18\n",
      "current second:  44\n",
      "current weekday:  5\n"
     ]
    }
   ],
   "source": [
    "print('current year: ',dt.now().year)\n",
    "print('current month: ',dt.now().month)\n",
    "print('current date: ',dt.now().day)\n",
    "print('current hour: ',dt.now().hour)\n",
    "print('current minute: ',dt.now().minute)\n",
    "print('current second: ',dt.now().second)\n",
    "print('current weekday: ',dt.now().weekday())  "
   ]
  },
  {
   "cell_type": "code",
   "execution_count": 33,
   "id": "dc73b6dd",
   "metadata": {},
   "outputs": [
    {
     "name": "stdout",
     "output_type": "stream",
     "text": [
      "05/07/25\n"
     ]
    }
   ],
   "source": [
    "date = dt.strftime(dt.now(), '%d/%m/%y')\n",
    "print(date)"
   ]
  },
  {
   "cell_type": "code",
   "execution_count": null,
   "id": "0d8ad57a",
   "metadata": {},
   "outputs": [],
   "source": []
  },
  {
   "cell_type": "code",
   "execution_count": 34,
   "id": "acd10d36",
   "metadata": {},
   "outputs": [
    {
     "name": "stdout",
     "output_type": "stream",
     "text": [
      "18:27:53\n"
     ]
    }
   ],
   "source": [
    "time = dt.strftime(dt.now(), '%H:%M:%S')\n",
    "print(time)"
   ]
  }
 ],
 "metadata": {
  "kernelspec": {
   "display_name": "base",
   "language": "python",
   "name": "python3"
  },
  "language_info": {
   "codemirror_mode": {
    "name": "ipython",
    "version": 3
   },
   "file_extension": ".py",
   "mimetype": "text/x-python",
   "name": "python",
   "nbconvert_exporter": "python",
   "pygments_lexer": "ipython3",
   "version": "3.13.2"
  }
 },
 "nbformat": 4,
 "nbformat_minor": 5
}
