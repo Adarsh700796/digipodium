{
 "cells": [
  {
   "cell_type": "markdown",
   "id": "050bea3e",
   "metadata": {},
   "source": [
    "- how to create dicitionary\n",
    "- how to access pairs in dicitionary\n",
    "- how to run a loop in a dicitionary\n",
    "- how to make nested dicitionary\n",
    "- indexing in dicitionary\n"
   ]
  },
  {
   "cell_type": "code",
   "execution_count": 1,
   "id": "2e69807c",
   "metadata": {},
   "outputs": [
    {
     "name": "stdout",
     "output_type": "stream",
     "text": [
      "{'name': 'John Doe', 'age': 20, 'courses': 'BCA', 'marks': 85}\n"
     ]
    }
   ],
   "source": [
    "student ={\n",
    "    \"name\": \"John Doe\",\n",
    "    \"age\": 20,\n",
    "    \"courses\": \"BCA\", \n",
    "    \"marks\": 85,\n",
    "}\n",
    "print(student)"
   ]
  },
  {
   "cell_type": "code",
   "execution_count": 2,
   "id": "48865b16",
   "metadata": {},
   "outputs": [
    {
     "name": "stdout",
     "output_type": "stream",
     "text": [
      "{'name': 'Jane Smith', 'age': 22, 'courses': 'BBA', 'marks': 90}\n"
     ]
    }
   ],
   "source": [
    "info = dict(name=\"Jane Smith\", age=22, courses=\"BBA\", marks=90)\n",
    "print(info)"
   ]
  },
  {
   "cell_type": "code",
   "execution_count": 3,
   "id": "049e8df5",
   "metadata": {},
   "outputs": [
    {
     "name": "stdout",
     "output_type": "stream",
     "text": [
      "{'name': 'shiva', 'age': 22, 'courses': 'BBA', 'marks': 90}\n"
     ]
    }
   ],
   "source": [
    "info = dict(name= input(\"enter the name\"), age=22, courses=\"BBA\", marks=90)\n",
    "print(info)"
   ]
  },
  {
   "cell_type": "code",
   "execution_count": 4,
   "id": "d865ac33",
   "metadata": {},
   "outputs": [
    {
     "name": "stdout",
     "output_type": "stream",
     "text": [
      "{'lucknow': [25, 30, 45], 'delhi': [30, 35, 40], 'chennai': [35, 40, 45]}\n"
     ]
    }
   ],
   "source": [
    "temp={\n",
    "    'lucknow': [25,30,45],\n",
    "    'delhi': [30,35,40],\n",
    "    'chennai': [35, 40, 45]\n",
    "}\n",
    "print(temp)"
   ]
  },
  {
   "cell_type": "code",
   "execution_count": 5,
   "id": "3b68c240",
   "metadata": {},
   "outputs": [
    {
     "data": {
      "text/plain": [
       "22"
      ]
     },
     "execution_count": 5,
     "metadata": {},
     "output_type": "execute_result"
    }
   ],
   "source": [
    "# 1st method to access value through key\n",
    "info['name']\n",
    "info['age']"
   ]
  },
  {
   "cell_type": "code",
   "execution_count": 6,
   "id": "bf08fb8d",
   "metadata": {},
   "outputs": [],
   "source": [
    "#2nd method to access value through key\n",
    "info.get('name')\n",
    "info.get('course')"
   ]
  },
  {
   "cell_type": "code",
   "execution_count": 7,
   "id": "3ff64696",
   "metadata": {},
   "outputs": [],
   "source": [
    "# adding adding new value in the dicitionary\n",
    "info['city'] ='lucknow'"
   ]
  },
  {
   "cell_type": "code",
   "execution_count": 8,
   "id": "8e367245",
   "metadata": {},
   "outputs": [
    {
     "name": "stdout",
     "output_type": "stream",
     "text": [
      "{'name': 'shiva', 'age': 22, 'courses': 'BBA', 'marks': 90, 'city': 'lucknow'}\n"
     ]
    }
   ],
   "source": [
    "print(info)"
   ]
  },
  {
   "cell_type": "code",
   "execution_count": 10,
   "id": "d67e480f",
   "metadata": {},
   "outputs": [
    {
     "name": "stdout",
     "output_type": "stream",
     "text": [
      "name\n",
      "age\n",
      "courses\n",
      "marks\n"
     ]
    }
   ],
   "source": [
    "for i in student :\n",
    "    print(i)"
   ]
  },
  {
   "cell_type": "code",
   "execution_count": 11,
   "id": "c0c30436",
   "metadata": {},
   "outputs": [
    {
     "name": "stdout",
     "output_type": "stream",
     "text": [
      "name : John Doe\n",
      "age : 20\n",
      "courses : BCA\n",
      "marks : 85\n"
     ]
    }
   ],
   "source": [
    "for i,j in student.items():\n",
    "    print(f'{i} : {j}')"
   ]
  },
  {
   "cell_type": "code",
   "execution_count": 12,
   "id": "c57a6260",
   "metadata": {},
   "outputs": [
    {
     "name": "stdout",
     "output_type": "stream",
     "text": [
      "dict_keys(['name', 'age', 'courses', 'marks'])\n",
      "dict_values(['John Doe', 20, 'BCA', 85])\n",
      "dict_items([('name', 'John Doe'), ('age', 20), ('courses', 'BCA'), ('marks', 85)])\n"
     ]
    }
   ],
   "source": [
    "print(student.keys())\n",
    "print(student.values())\n",
    "print(student.items())"
   ]
  },
  {
   "cell_type": "code",
   "execution_count": 13,
   "id": "7799f152",
   "metadata": {},
   "outputs": [
    {
     "name": "stdout",
     "output_type": "stream",
     "text": [
      "{'emp 001': {'name': 'Alice', 'dept': 'HR', 'salary': 50000}, 'emp 002': {'name': 'Bob', 'dept': 'IT', 'salary': 60000}, 'emp 003': {'name': 'Charlie', 'dept': 'Finance', 'salary': 55000}}\n"
     ]
    }
   ],
   "source": [
    "company = {\n",
    "    'emp 001': {\n",
    "        'name': 'Alice',\n",
    "        'dept': 'HR',\n",
    "        'salary': 50000\n",
    "    },\n",
    "    'emp 002': {\n",
    "        'name': 'Bob',\n",
    "        'dept': 'IT',\n",
    "        'salary': 60000\n",
    "    },\n",
    "    'emp 003': {\n",
    "        'name': 'Charlie',\n",
    "        'dept': 'Finance',\n",
    "        'salary': 55000\n",
    "    }\n",
    "}\n",
    "print(company)"
   ]
  },
  {
   "cell_type": "code",
   "execution_count": 14,
   "id": "e11c7288",
   "metadata": {},
   "outputs": [],
   "source": [
    "from pprint import pprint\n",
    "\n"
   ]
  },
  {
   "cell_type": "code",
   "execution_count": 16,
   "id": "0b16b84c",
   "metadata": {},
   "outputs": [
    {
     "name": "stdout",
     "output_type": "stream",
     "text": [
      "{'emp 001': {'dept': 'HR', 'name': 'Alice', 'salary': 50000},\n",
      " 'emp 002': {'dept': 'IT', 'name': 'Bob', 'salary': 60000},\n",
      " 'emp 003': {'dept': 'Finance', 'name': 'Charlie', 'salary': 55000}}\n"
     ]
    }
   ],
   "source": [
    "pprint(company)"
   ]
  },
  {
   "cell_type": "code",
   "execution_count": 20,
   "id": "40158faa",
   "metadata": {},
   "outputs": [],
   "source": [
    "company['emp004'] = {\n",
    "    'name': 'David',\n",
    "    'dept': 'Marketing',\n",
    "    'salary': 52000\n",
    "}"
   ]
  },
  {
   "cell_type": "code",
   "execution_count": 21,
   "id": "362a1fab",
   "metadata": {},
   "outputs": [
    {
     "name": "stdout",
     "output_type": "stream",
     "text": [
      "{'emp 001': {'dept': 'HR', 'name': 'Alice', 'salary': 50000},\n",
      " 'emp 002': {'dept': 'IT', 'name': 'Bob', 'salary': 60000},\n",
      " 'emp 003': {'dept': 'Finance', 'name': 'Charlie', 'salary': 55000},\n",
      " 'emp004': {'dept': 'Marketing', 'name': 'David', 'salary': 52000}}\n"
     ]
    }
   ],
   "source": [
    "pprint(company)"
   ]
  },
  {
   "cell_type": "code",
   "execution_count": 23,
   "id": "5c80648f",
   "metadata": {},
   "outputs": [
    {
     "data": {
      "text/plain": [
       "50000"
      ]
     },
     "execution_count": 23,
     "metadata": {},
     "output_type": "execute_result"
    }
   ],
   "source": [
    "company[\"emp 001\"]['salary']"
   ]
  },
  {
   "cell_type": "code",
   "execution_count": 28,
   "id": "c318cf99",
   "metadata": {},
   "outputs": [
    {
     "name": "stdout",
     "output_type": "stream",
     "text": [
      "33.333333333333336\n"
     ]
    }
   ],
   "source": [
    "print(sum(temp['lucknow'])/len(temp['lucknow']))\n"
   ]
  }
 ],
 "metadata": {
  "kernelspec": {
   "display_name": "base",
   "language": "python",
   "name": "python3"
  },
  "language_info": {
   "codemirror_mode": {
    "name": "ipython",
    "version": 3
   },
   "file_extension": ".py",
   "mimetype": "text/x-python",
   "name": "python",
   "nbconvert_exporter": "python",
   "pygments_lexer": "ipython3",
   "version": "3.13.2"
  }
 },
 "nbformat": 4,
 "nbformat_minor": 5
}
