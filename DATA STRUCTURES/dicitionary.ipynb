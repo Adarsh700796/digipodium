{
 "cells": [
  {
   "cell_type": "markdown",
   "id": "050bea3e",
   "metadata": {},
   "source": [
    "- how to create dicitionary\n",
    "- how to access pairs in dicitionary\n",
    "- how to run a loop in a dicitionary\n",
    "- how to make nested dicitionary\n",
    "- indexing in dicitionary\n"
   ]
  },
  {
   "cell_type": "code",
   "execution_count": 1,
   "id": "2e69807c",
   "metadata": {},
   "outputs": [
    {
     "name": "stdout",
     "output_type": "stream",
     "text": [
      "{'name': 'John Doe', 'age': 20, 'courses': 'BCA', 'marks': 85}\n"
     ]
    }
   ],
   "source": [
    "student ={\n",
    "    \"name\": \"John Doe\",\n",
    "    \"age\": 20,\n",
    "    \"courses\": \"BCA\", \n",
    "    \"marks\": 85,\n",
    "}\n",
    "print(student)"
   ]
  },
  {
   "cell_type": "code",
   "execution_count": 2,
   "id": "48865b16",
   "metadata": {},
   "outputs": [
    {
     "name": "stdout",
     "output_type": "stream",
     "text": [
      "{'name': 'Jane Smith', 'age': 22, 'courses': 'BBA', 'marks': 90}\n"
     ]
    }
   ],
   "source": [
    "info = dict(name=\"Jane Smith\", age=22, courses=\"BBA\", marks=90)\n",
    "print(info)"
   ]
  },
  {
   "cell_type": "code",
   "execution_count": 3,
   "id": "049e8df5",
   "metadata": {},
   "outputs": [
    {
     "name": "stdout",
     "output_type": "stream",
     "text": [
      "{'name': 'shiva', 'age': 22, 'courses': 'BBA', 'marks': 90}\n"
     ]
    }
   ],
   "source": [
    "info = dict(name= input(\"enter the name\"), age=22, courses=\"BBA\", marks=90)\n",
    "print(info)"
   ]
  },
  {
   "cell_type": "code",
   "execution_count": 6,
   "id": "d865ac33",
   "metadata": {},
   "outputs": [
    {
     "name": "stdout",
     "output_type": "stream",
     "text": [
      "{'lucknow': [25, 30, 45], 'delhi': [30, 35, 40], 'chennai': [35, 40, 45]}\n"
     ]
    }
   ],
   "source": [
    "temp={\n",
    "    'lucknow': [25,30,45],\n",
    "    'delhi': [30,35,40],\n",
    "    'chennai': [35, 40, 45]\n",
    "}\n",
    "print(temp)"
   ]
  },
  {
   "cell_type": "code",
   "execution_count": 7,
   "id": "3b68c240",
   "metadata": {},
   "outputs": [
    {
     "data": {
      "text/plain": [
       "22"
      ]
     },
     "execution_count": 7,
     "metadata": {},
     "output_type": "execute_result"
    }
   ],
   "source": [
    "# 1st method to access value through key\n",
    "info['name']\n",
    "info['age']"
   ]
  },
  {
   "cell_type": "code",
   "execution_count": 10,
   "id": "bf08fb8d",
   "metadata": {},
   "outputs": [],
   "source": [
    "#2nd method to access value through key\n",
    "info.get('name')\n",
    "info.get('course')"
   ]
  },
  {
   "cell_type": "code",
   "execution_count": 11,
   "id": "3ff64696",
   "metadata": {},
   "outputs": [],
   "source": [
    "# adding adding new value in the dicitionary\n",
    "info['city'] ='lucknow'"
   ]
  },
  {
   "cell_type": "code",
   "execution_count": 12,
   "id": "8e367245",
   "metadata": {},
   "outputs": [
    {
     "name": "stdout",
     "output_type": "stream",
     "text": [
      "{'name': 'shiva', 'age': 22, 'courses': 'BBA', 'marks': 90, 'city': 'lucknow'}\n"
     ]
    }
   ],
   "source": [
    "print(info)"
   ]
  }
 ],
 "metadata": {
  "kernelspec": {
   "display_name": "base",
   "language": "python",
   "name": "python3"
  },
  "language_info": {
   "codemirror_mode": {
    "name": "ipython",
    "version": 3
   },
   "file_extension": ".py",
   "mimetype": "text/x-python",
   "name": "python",
   "nbconvert_exporter": "python",
   "pygments_lexer": "ipython3",
   "version": "3.13.2"
  }
 },
 "nbformat": 4,
 "nbformat_minor": 5
}
