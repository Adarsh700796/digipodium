{
 "cells": [
  {
   "cell_type": "code",
   "execution_count": 1,
   "id": "4f987f99",
   "metadata": {},
   "outputs": [
    {
     "name": "stdout",
     "output_type": "stream",
     "text": [
      "jhonny jhonny yes yes papa\n",
      "eating sugar no papa\n",
      "telling a lie no papa\n",
      "open your mouth ha ha ha\n"
     ]
    }
   ],
   "source": [
    "poem = '''jhonny jhonny yes yes papa\n",
    "eating sugar no papa\n",
    "telling a lie no papa\n",
    "open your mouth ha ha ha'''\n",
    "print(poem)\n"
   ]
  },
  {
   "cell_type": "code",
   "execution_count": 2,
   "id": "550b4293",
   "metadata": {},
   "outputs": [
    {
     "data": {
      "text/plain": [
       "22"
      ]
     },
     "execution_count": 2,
     "metadata": {},
     "output_type": "execute_result"
    }
   ],
   "source": [
    "poem.find('papa')"
   ]
  },
  {
   "cell_type": "code",
   "execution_count": 3,
   "id": "02891883",
   "metadata": {},
   "outputs": [
    {
     "name": "stdout",
     "output_type": "stream",
     "text": [
      "jhonny jhonny yes yes buaa\n",
      "eating sugar no buaa\n",
      "telling a lie no buaa\n",
      "open your mouth ha ha ha\n"
     ]
    }
   ],
   "source": [
    "p = poem.replace('papa','buaa')\n",
    "print(p)"
   ]
  },
  {
   "cell_type": "code",
   "execution_count": 6,
   "id": "2668249b",
   "metadata": {},
   "outputs": [
    {
     "data": {
      "text/plain": [
       "['jhonny jhonny yes yes buaa',\n",
       " 'eating sugar no buaa',\n",
       " 'telling a lie no buaa',\n",
       " 'open your mouth ha ha ha']"
      ]
     },
     "execution_count": 6,
     "metadata": {},
     "output_type": "execute_result"
    }
   ],
   "source": [
    "p.splitlines()\n",
    " "
   ]
  },
  {
   "cell_type": "code",
   "execution_count": 9,
   "id": "648c3e95",
   "metadata": {},
   "outputs": [
    {
     "name": "stdout",
     "output_type": "stream",
     "text": [
      "name\n"
     ]
    }
   ],
   "source": [
    "name ='my name is allice'\n",
    "print('name')"
   ]
  }
 ],
 "metadata": {
  "kernelspec": {
   "display_name": "base",
   "language": "python",
   "name": "python3"
  },
  "language_info": {
   "codemirror_mode": {
    "name": "ipython",
    "version": 3
   },
   "file_extension": ".py",
   "mimetype": "text/x-python",
   "name": "python",
   "nbconvert_exporter": "python",
   "pygments_lexer": "ipython3",
   "version": "3.13.2"
  }
 },
 "nbformat": 4,
 "nbformat_minor": 5
}
