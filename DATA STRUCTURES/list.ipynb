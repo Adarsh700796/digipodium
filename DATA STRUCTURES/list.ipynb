{
 "cells": [
  {
   "cell_type": "code",
   "execution_count": 1,
   "id": "426d62a4",
   "metadata": {},
   "outputs": [
    {
     "name": "stdout",
     "output_type": "stream",
     "text": [
      "['instagram', 'snapchat', 'telegram', 'mewshunt', 'google', 'chatgpt', 'playgames', 'playstore', 'whatsapp', 'BGMI']\n"
     ]
    }
   ],
   "source": [
    "apps =['instagram','snapchat','telegram','mewshunt','google','chatgpt','playgames','playstore','whatsapp','BGMI']\n",
    "print(apps)"
   ]
  },
  {
   "cell_type": "markdown",
   "id": "2e626d8e",
   "metadata": {},
   "source": [
    "INDEXING AND SLICING    "
   ]
  },
  {
   "cell_type": "code",
   "execution_count": 2,
   "id": "8869b75d",
   "metadata": {},
   "outputs": [
    {
     "name": "stdout",
     "output_type": "stream",
     "text": [
      "mewshunt\n",
      "playstore\n"
     ]
    }
   ],
   "source": [
    "print(apps[3])\n",
    "print(apps[7])"
   ]
  },
  {
   "cell_type": "code",
   "execution_count": 3,
   "id": "e2270bdf",
   "metadata": {},
   "outputs": [
    {
     "name": "stdout",
     "output_type": "stream",
     "text": [
      "whatsapp\n",
      "chatgpt\n"
     ]
    }
   ],
   "source": [
    "print(apps[-2])\n",
    "print(apps[-5])"
   ]
  },
  {
   "cell_type": "code",
   "execution_count": null,
   "id": "29fff465",
   "metadata": {},
   "outputs": [
    {
     "name": "stdout",
     "output_type": "stream",
     "text": [
      "['snapchat', 'telegram', 'mewshunt', 'google']\n"
     ]
    }
   ],
   "source": [
    "print(apps[1:5])\n"
   ]
  },
  {
   "cell_type": "code",
   "execution_count": 6,
   "id": "3fbd17a9",
   "metadata": {},
   "outputs": [
    {
     "name": "stdout",
     "output_type": "stream",
     "text": [
      "['snapchat', 'mewshunt', 'chatgpt', 'playstore']\n"
     ]
    }
   ],
   "source": [
    "print(apps[1:8:2])"
   ]
  },
  {
   "cell_type": "code",
   "execution_count": 10,
   "id": "1505f058",
   "metadata": {},
   "outputs": [
    {
     "name": "stdout",
     "output_type": "stream",
     "text": [
      "['instagram', 'snapchat', 'telegram', 'mewshunt', 'google', 'chatgpt', 'playgames', 'playstore', 'whatsapp', 'BGMI']\n"
     ]
    }
   ],
   "source": [
    "print(apps[:])"
   ]
  },
  {
   "cell_type": "code",
   "execution_count": 11,
   "id": "28e13c3d",
   "metadata": {},
   "outputs": [
    {
     "name": "stdout",
     "output_type": "stream",
     "text": [
      "['instagram', 'telegram', 'google', 'playgames', 'whatsapp']\n"
     ]
    }
   ],
   "source": [
    "print(apps[::2])"
   ]
  },
  {
   "cell_type": "code",
   "execution_count": 12,
   "id": "c2a31501",
   "metadata": {},
   "outputs": [
    {
     "name": "stdout",
     "output_type": "stream",
     "text": [
      "['playgames', 'playstore', 'whatsapp']\n"
     ]
    }
   ],
   "source": [
    "print(apps[-4:-1])"
   ]
  },
  {
   "cell_type": "code",
   "execution_count": 14,
   "id": "648dcb7c",
   "metadata": {},
   "outputs": [
    {
     "name": "stdout",
     "output_type": "stream",
     "text": [
      "['mewshunt', 'google', 'chatgpt', 'playgames', 'playstore', 'whatsapp', 'BGMI']\n"
     ]
    }
   ],
   "source": [
    "print(apps[-7:])"
   ]
  },
  {
   "cell_type": "markdown",
   "id": "69d04fc7",
   "metadata": {},
   "source": [
    "LIST METHODS\n",
    "- append()- to add item at the end of the list\n",
    "- insert()- to add item at any specific position of the list\n",
    "- pop()- to delete item using index position\n",
    "- remove()- to delete item using item name\n",
    "- copy()- to make duplicate of the list\n",
    "- sort()- to sort the list in particular order\n",
    "- extend()- two combine two list into a single list\n",
    "- clear()- to delete all the items from the the list but not the list"
   ]
  },
  {
   "cell_type": "code",
   "execution_count": 15,
   "id": "22be720f",
   "metadata": {},
   "outputs": [
    {
     "name": "stdout",
     "output_type": "stream",
     "text": [
      "['instagram', 'snapchat', 'telegram', 'mewshunt', 'google', 'chatgpt', 'playgames', 'playstore', 'whatsapp', 'BGMI', 'netflix']\n"
     ]
    }
   ],
   "source": [
    "apps.append('netflix')\n",
    "print(apps)"
   ]
  },
  {
   "cell_type": "code",
   "execution_count": 18,
   "id": "2fefc2c1",
   "metadata": {},
   "outputs": [
    {
     "name": "stdout",
     "output_type": "stream",
     "text": [
      "['instagram', 'snapchat', 'telegram', 'youtube', 'mewshunt', 'google', 'chatgpt', 'playgames', 'playstore', 'whatsapp', 'BGMI', 'netflix']\n"
     ]
    }
   ],
   "source": [
    "apps.insert( 3, 'youtube')\n",
    "print(apps)"
   ]
  },
  {
   "cell_type": "code",
   "execution_count": 19,
   "id": "9f56ece9",
   "metadata": {},
   "outputs": [
    {
     "name": "stdout",
     "output_type": "stream",
     "text": [
      "['instagram', 'snapchat', 'youtube', 'mewshunt', 'google', 'chatgpt', 'playgames', 'playstore', 'whatsapp', 'BGMI', 'netflix']\n"
     ]
    }
   ],
   "source": [
    "apps.pop(2)\n",
    "print(apps)"
   ]
  },
  {
   "cell_type": "code",
   "execution_count": 22,
   "id": "e1a00353",
   "metadata": {},
   "outputs": [
    {
     "name": "stdout",
     "output_type": "stream",
     "text": [
      "['instagram', 'snapchat', 'youtube', 'mewshunt', 'google', 'chatgpt', 'playgames', 'playstore', 'whatsapp', 'netflix']\n"
     ]
    }
   ],
   "source": [
    "apps.remove('BGMI')\n",
    "print(apps)"
   ]
  },
  {
   "cell_type": "code",
   "execution_count": 23,
   "id": "dee7afc9",
   "metadata": {},
   "outputs": [
    {
     "name": "stdout",
     "output_type": "stream",
     "text": [
      "['instagram', 'snapchat', 'youtube', 'mewshunt', 'google', 'chatgpt', 'playgames', 'playstore', 'whatsapp', 'netflix']\n"
     ]
    }
   ],
   "source": [
    "copy_apps = apps.copy()\n",
    "print(copy_apps)"
   ]
  },
  {
   "cell_type": "code",
   "execution_count": 24,
   "id": "b4a1a7b9",
   "metadata": {},
   "outputs": [
    {
     "name": "stdout",
     "output_type": "stream",
     "text": [
      "[]\n"
     ]
    }
   ],
   "source": [
    "copy_apps.clear()\n",
    "print(copy_apps)"
   ]
  },
  {
   "cell_type": "code",
   "execution_count": 29,
   "id": "9a4c132d",
   "metadata": {},
   "outputs": [
    {
     "name": "stdout",
     "output_type": "stream",
     "text": [
      "['chatgpt', 'google', 'instagram', 'mewshunt', 'netflix', 'playgames', 'playstore', 'snapchat', 'whatsapp', 'youtube']\n"
     ]
    }
   ],
   "source": [
    "apps.sort()\n",
    "print(apps)"
   ]
  },
  {
   "cell_type": "code",
   "execution_count": 30,
   "id": "5d22f1be",
   "metadata": {},
   "outputs": [],
   "source": [
    "apps2 = ['jio','microsoft','apple','amazon','flipkart']\n",
    "apps.extend(apps2)"
   ]
  },
  {
   "cell_type": "code",
   "execution_count": 31,
   "id": "fc8d51b8",
   "metadata": {},
   "outputs": [
    {
     "name": "stdout",
     "output_type": "stream",
     "text": [
      "['chatgpt', 'google', 'instagram', 'mewshunt', 'netflix', 'playgames', 'playstore', 'snapchat', 'whatsapp', 'youtube', 'jio', 'microsoft', 'apple', 'amazon', 'flipkart', 'jio', 'microsoft', 'apple', 'amazon', 'flipkart']\n"
     ]
    }
   ],
   "source": [
    "apps.extend(apps2)\n",
    "print(apps)"
   ]
  }
 ],
 "metadata": {
  "kernelspec": {
   "display_name": "base",
   "language": "python",
   "name": "python3"
  },
  "language_info": {
   "codemirror_mode": {
    "name": "ipython",
    "version": 3
   },
   "file_extension": ".py",
   "mimetype": "text/x-python",
   "name": "python",
   "nbconvert_exporter": "python",
   "pygments_lexer": "ipython3",
   "version": "3.13.2"
  }
 },
 "nbformat": 4,
 "nbformat_minor": 5
}
