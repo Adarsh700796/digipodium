{
 "cells": [
  {
   "cell_type": "code",
   "execution_count": 3,
   "id": "7af848e7",
   "metadata": {},
   "outputs": [
    {
     "name": "stdout",
     "output_type": "stream",
     "text": [
      "apple\n",
      "banana\n",
      "pea\n",
      "banana\n",
      "pea\n"
     ]
    }
   ],
   "source": [
    "fruits = ['apple','banana','pea','banana','pea']\n",
    "for i in fruits:\n",
    "    print(i)"
   ]
  },
  {
   "cell_type": "code",
   "execution_count": 2,
   "id": "2e4cd2c4",
   "metadata": {},
   "outputs": [
    {
     "name": "stdout",
     "output_type": "stream",
     "text": [
      "apple,banana,pea,banana,pea,"
     ]
    }
   ],
   "source": [
    "fruits = ['apple','banana','pea','banana','pea']\n",
    "for i in fruits:\n",
    "    print(i, end=\",\")\n",
    "\n"
   ]
  },
  {
   "cell_type": "code",
   "execution_count": 6,
   "id": "78b871d3",
   "metadata": {},
   "outputs": [
    {
     "name": "stdout",
     "output_type": "stream",
     "text": [
      "0\n",
      "1\n",
      "2\n",
      "3\n",
      "4\n",
      "5\n"
     ]
    }
   ],
   "source": [
    "for i in range(6):\n",
    " print(i)"
   ]
  },
  {
   "cell_type": "code",
   "execution_count": 7,
   "id": "400e5c10",
   "metadata": {},
   "outputs": [
    {
     "name": "stdout",
     "output_type": "stream",
     "text": [
      "2\n",
      "3\n",
      "4\n",
      "5\n",
      "6\n",
      "7\n",
      "8\n",
      "9\n"
     ]
    }
   ],
   "source": [
    "for i in range(2,10):\n",
    " print(i)\n"
   ]
  },
  {
   "cell_type": "code",
   "execution_count": 25,
   "id": "3c0ba986",
   "metadata": {},
   "outputs": [
    {
     "name": "stdout",
     "output_type": "stream",
     "text": [
      "adarsh\n",
      "adarsh\n",
      "adarsh\n",
      "adarsh\n",
      "adarsh\n",
      "adarsh\n",
      "adarsh\n",
      "adarsh\n",
      "adarsh\n",
      "adarsh\n"
     ]
    }
   ],
   "source": [
    " for i in range(10):\n",
    "  print(\"adarsh\")"
   ]
  },
  {
   "cell_type": "code",
   "execution_count": 18,
   "id": "cc534f0b",
   "metadata": {},
   "outputs": [
    {
     "name": "stdout",
     "output_type": "stream",
     "text": [
      "1\n",
      "3\n",
      "5\n",
      "7\n",
      "9\n",
      "11\n",
      "13\n",
      "15\n",
      "17\n",
      "19\n"
     ]
    }
   ],
   "source": [
    "for i in range(1,20,2):\n",
    " print(i)"
   ]
  },
  {
   "cell_type": "code",
   "execution_count": 19,
   "id": "2c229e22",
   "metadata": {},
   "outputs": [
    {
     "name": "stdout",
     "output_type": "stream",
     "text": [
      "0\n",
      "2\n",
      "4\n",
      "6\n",
      "8\n",
      "10\n",
      "12\n",
      "14\n",
      "16\n",
      "18\n"
     ]
    }
   ],
   "source": [
    "for i in range(0,20,2):\n",
    "    print(i)"
   ]
  },
  {
   "cell_type": "code",
   "execution_count": 26,
   "id": "1e60662c",
   "metadata": {},
   "outputs": [
    {
     "name": "stdout",
     "output_type": "stream",
     "text": [
      "0\n",
      "1\n",
      "2\n",
      "3\n",
      "4\n",
      "5\n",
      "6\n",
      "7\n",
      "8\n",
      "9\n",
      "10\n"
     ]
    }
   ],
   "source": [
    "i=0\n",
    "while i<=10:\n",
    " print(i)\n",
    " i+=1"
   ]
  },
  {
   "cell_type": "markdown",
   "id": "44d24f36",
   "metadata": {},
   "source": [
    "    BREAK & CONTINUE"
   ]
  },
  {
   "cell_type": "code",
   "execution_count": 52,
   "id": "27ffd151",
   "metadata": {},
   "outputs": [
    {
     "name": "stdout",
     "output_type": "stream",
     "text": [
      "apple\n",
      "banana\n"
     ]
    }
   ],
   "source": [
    "fruits = ['apple' ,'banana','onion','date','pea',]\n",
    "for i in fruits:\n",
    "   if i == 'onion':\n",
    "    break\n",
    "   print(i)"
   ]
  },
  {
   "cell_type": "code",
   "execution_count": 53,
   "id": "5dc2d9a0",
   "metadata": {},
   "outputs": [
    {
     "name": "stdout",
     "output_type": "stream",
     "text": [
      "apple\n",
      "banana\n",
      "date\n",
      "pea\n"
     ]
    }
   ],
   "source": [
    "fruits = ['apple' ,'banana','onion','date','pea',]\n",
    "for i in fruits:\n",
    "   if i == 'onion':\n",
    "    continue\n",
    "   print(i)"
   ]
  }
 ],
 "metadata": {
  "kernelspec": {
   "display_name": "base",
   "language": "python",
   "name": "python3"
  },
  "language_info": {
   "codemirror_mode": {
    "name": "ipython",
    "version": 3
   },
   "file_extension": ".py",
   "mimetype": "text/x-python",
   "name": "python",
   "nbconvert_exporter": "python",
   "pygments_lexer": "ipython3",
   "version": "3.13.2"
  }
 },
 "nbformat": 4,
 "nbformat_minor": 5
}
