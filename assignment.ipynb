{
 "cells": [
  {
   "cell_type": "code",
   "execution_count": 23,
   "id": "f5a8959b",
   "metadata": {},
   "outputs": [
    {
     "name": "stdout",
     "output_type": "stream",
     "text": [
      "two sides of triangle are equal\n"
     ]
    }
   ],
   "source": [
    "# To check whether two sides of triangles are equal or not\n",
    "\n",
    "a = float(input(\"enter length of side 1: \"))\n",
    "b = float(input(\"enter length of side 2: \")) \n",
    "c = float(input(\"enter length of side 3: \"))\n",
    "if(a==b):\n",
    "    print(\"two sides of triangle are equal\")"
   ]
  },
  {
   "cell_type": "code",
   "execution_count": 27,
   "id": "a7b7a6f2",
   "metadata": {},
   "outputs": [
    {
     "name": "stdout",
     "output_type": "stream",
     "text": [
      "it is an isoceles triangle\n"
     ]
    }
   ],
   "source": [
    "# to check whether the triangle is isoceles or equilateral triangle\n",
    "if (a==b):\n",
    "    print(\"it is an isoceles triangle\")\n",
    "if (a==b==c):\n",
    "    print(\"it is an equilateral triangle\")"
   ]
  },
  {
   "cell_type": "code",
   "execution_count": null,
   "id": "be7fb8a0",
   "metadata": {},
   "outputs": [
    {
     "ename": "SyntaxError",
     "evalue": "invalid syntax (2920554460.py, line 2)",
     "output_type": "error",
     "traceback": [
      "  \u001b[36mCell\u001b[39m\u001b[36m \u001b[39m\u001b[32mIn[32]\u001b[39m\u001b[32m, line 2\u001b[39m\n\u001b[31m    \u001b[39m\u001b[31mint a ;\u001b[39m\n        ^\n\u001b[31mSyntaxError\u001b[39m\u001b[31m:\u001b[39m invalid syntax\n"
     ]
    }
   ],
   "source": [
    "# to check whether the number is even or odd\n"
   ]
  },
  {
   "cell_type": "code",
   "execution_count": null,
   "id": "e959a15c",
   "metadata": {},
   "outputs": [],
   "source": [
    "bs = 50000\n",
    "HRA = 0.05 * bs\n",
    "DA = 0.1 * bs \n",
    "GS = bs + HRA + DA\n"
   ]
  }
 ],
 "metadata": {
  "kernelspec": {
   "display_name": "base",
   "language": "python",
   "name": "python3"
  },
  "language_info": {
   "codemirror_mode": {
    "name": "ipython",
    "version": 3
   },
   "file_extension": ".py",
   "mimetype": "text/x-python",
   "name": "python",
   "nbconvert_exporter": "python",
   "pygments_lexer": "ipython3",
   "version": "3.13.2"
  }
 },
 "nbformat": 4,
 "nbformat_minor": 5
}
