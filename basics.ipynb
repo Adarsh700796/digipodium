{
 "cells": [
  {
   "cell_type": "markdown",
   "id": "456bfe50",
   "metadata": {},
   "source": [
    "heading\n",
    "# heading\n",
    "###### heading\n",
    "### heading \n",
    "- point 1   \n",
    "    - subpoint1\n",
    "    - subpoint2\n",
    "- point 2   \n",
    "\n",
    "- point 3\n",
    "\n"
   ]
  },
  {
   "cell_type": "code",
   "execution_count": 1,
   "id": "e15b843e",
   "metadata": {},
   "outputs": [
    {
     "name": "stdout",
     "output_type": "stream",
     "text": [
      "10\n"
     ]
    }
   ],
   "source": [
    "a=10\n",
    "print(a)"
   ]
  },
  {
   "cell_type": "code",
   "execution_count": 3,
   "id": "3f6e6d96",
   "metadata": {},
   "outputs": [
    {
     "name": "stdout",
     "output_type": "stream",
     "text": [
      "sum 0f 20 and 30 is 50\n"
     ]
    }
   ],
   "source": [
    "a = 20\n",
    "b = 30\n",
    "sum = a+b\n",
    "print(f\"sum 0f {a} and {b} is {sum}\")"
   ]
  },
  {
   "cell_type": "markdown",
   "id": "84652eab",
   "metadata": {},
   "source": [
    "dicitionary - A = {1,2,2,3,4}\n",
    "list - A = [1,2,3,4,5]"
   ]
  }
 ],
 "metadata": {
  "kernelspec": {
   "display_name": "base",
   "language": "python",
   "name": "python3"
  },
  "language_info": {
   "codemirror_mode": {
    "name": "ipython",
    "version": 3
   },
   "file_extension": ".py",
   "mimetype": "text/x-python",
   "name": "python",
   "nbconvert_exporter": "python",
   "pygments_lexer": "ipython3",
   "version": "3.13.2"
  }
 },
 "nbformat": 4,
 "nbformat_minor": 5
}
